{
 "cells": [
  {
   "cell_type": "markdown",
   "metadata": {
    "id": "H9wADwK78DCz"
   },
   "source": [
    "# Proyek Analisis Data: Bike Sharing Dataset\n",
    "- **Nama:** Moch Virgiawan Caesar Ridollohi\n",
    "- **Email:** virgiawan.muhamad@gmail.com\n",
    "- **ID Dicoding:** mvirgiawancr"
   ]
  },
  {
   "cell_type": "markdown",
   "metadata": {
    "id": "eE0raob58DC0"
   },
   "source": [
    "## Menentukan Pertanyaan Bisnis"
   ]
  },
  {
   "cell_type": "markdown",
   "metadata": {
    "id": "GmQeQ5YF8DC0"
   },
   "source": [
    "- Pada Bulan apa bike sharing rental mendapatkan pelanggan terbanyak?\n",
    "- Berapa persen perbandingan antara pelanggan yang menyewa pada weekday dan pelanggan yang menyewa pada working day?\n",
    "- Bagaimana performa rental sepeda di musim springer, summer, fall, winter?"
   ]
  },
  {
   "cell_type": "markdown",
   "metadata": {
    "id": "H-z4QGlO8DC1"
   },
   "source": [
    "## Import Semua Packages/Library yang Digunakan"
   ]
  },
  {
   "cell_type": "code",
   "metadata": {
    "id": "FVYwaObI8DC1",
    "ExecuteTime": {
     "end_time": "2024-09-25T13:14:02.965023Z",
     "start_time": "2024-09-25T13:14:01.480343Z"
    }
   },
   "source": [
    "import pandas as pd\n",
    "import matplotlib.pyplot as plt\n",
    "import seaborn as sns"
   ],
   "outputs": [],
   "execution_count": 19
  },
  {
   "cell_type": "markdown",
   "metadata": {
    "id": "h_Sh51Xy8DC1"
   },
   "source": [
    "## Data Wrangling"
   ]
  },
  {
   "cell_type": "markdown",
   "metadata": {
    "id": "sXU2GBYu8DC1"
   },
   "source": [
    "### Gathering Data"
   ]
  },
  {
   "cell_type": "code",
   "metadata": {
    "id": "zjCBk1BI8DC1",
    "ExecuteTime": {
     "end_time": "2024-09-25T13:06:00.675277Z",
     "start_time": "2024-09-25T13:06:00.561420Z"
    }
   },
   "source": [
    "perday_df = pd.read_csv('./data/day.csv')\n",
    "perday_df.head()"
   ],
   "outputs": [
    {
     "data": {
      "text/plain": [
       "   instant      dteday  season  yr  mnth  holiday  weekday  workingday   \n",
       "0        1  2011-01-01       1   0     1        0        6           0  \\\n",
       "1        2  2011-01-02       1   0     1        0        0           0   \n",
       "2        3  2011-01-03       1   0     1        0        1           1   \n",
       "3        4  2011-01-04       1   0     1        0        2           1   \n",
       "4        5  2011-01-05       1   0     1        0        3           1   \n",
       "\n",
       "   weathersit      temp     atemp       hum  windspeed  casual  registered   \n",
       "0           2  0.344167  0.363625  0.805833   0.160446     331         654  \\\n",
       "1           2  0.363478  0.353739  0.696087   0.248539     131         670   \n",
       "2           1  0.196364  0.189405  0.437273   0.248309     120        1229   \n",
       "3           1  0.200000  0.212122  0.590435   0.160296     108        1454   \n",
       "4           1  0.226957  0.229270  0.436957   0.186900      82        1518   \n",
       "\n",
       "    cnt  \n",
       "0   985  \n",
       "1   801  \n",
       "2  1349  \n",
       "3  1562  \n",
       "4  1600  "
      ],
      "text/html": [
       "<div>\n",
       "<style scoped>\n",
       "    .dataframe tbody tr th:only-of-type {\n",
       "        vertical-align: middle;\n",
       "    }\n",
       "\n",
       "    .dataframe tbody tr th {\n",
       "        vertical-align: top;\n",
       "    }\n",
       "\n",
       "    .dataframe thead th {\n",
       "        text-align: right;\n",
       "    }\n",
       "</style>\n",
       "<table border=\"1\" class=\"dataframe\">\n",
       "  <thead>\n",
       "    <tr style=\"text-align: right;\">\n",
       "      <th></th>\n",
       "      <th>instant</th>\n",
       "      <th>dteday</th>\n",
       "      <th>season</th>\n",
       "      <th>yr</th>\n",
       "      <th>mnth</th>\n",
       "      <th>holiday</th>\n",
       "      <th>weekday</th>\n",
       "      <th>workingday</th>\n",
       "      <th>weathersit</th>\n",
       "      <th>temp</th>\n",
       "      <th>atemp</th>\n",
       "      <th>hum</th>\n",
       "      <th>windspeed</th>\n",
       "      <th>casual</th>\n",
       "      <th>registered</th>\n",
       "      <th>cnt</th>\n",
       "    </tr>\n",
       "  </thead>\n",
       "  <tbody>\n",
       "    <tr>\n",
       "      <th>0</th>\n",
       "      <td>1</td>\n",
       "      <td>2011-01-01</td>\n",
       "      <td>1</td>\n",
       "      <td>0</td>\n",
       "      <td>1</td>\n",
       "      <td>0</td>\n",
       "      <td>6</td>\n",
       "      <td>0</td>\n",
       "      <td>2</td>\n",
       "      <td>0.344167</td>\n",
       "      <td>0.363625</td>\n",
       "      <td>0.805833</td>\n",
       "      <td>0.160446</td>\n",
       "      <td>331</td>\n",
       "      <td>654</td>\n",
       "      <td>985</td>\n",
       "    </tr>\n",
       "    <tr>\n",
       "      <th>1</th>\n",
       "      <td>2</td>\n",
       "      <td>2011-01-02</td>\n",
       "      <td>1</td>\n",
       "      <td>0</td>\n",
       "      <td>1</td>\n",
       "      <td>0</td>\n",
       "      <td>0</td>\n",
       "      <td>0</td>\n",
       "      <td>2</td>\n",
       "      <td>0.363478</td>\n",
       "      <td>0.353739</td>\n",
       "      <td>0.696087</td>\n",
       "      <td>0.248539</td>\n",
       "      <td>131</td>\n",
       "      <td>670</td>\n",
       "      <td>801</td>\n",
       "    </tr>\n",
       "    <tr>\n",
       "      <th>2</th>\n",
       "      <td>3</td>\n",
       "      <td>2011-01-03</td>\n",
       "      <td>1</td>\n",
       "      <td>0</td>\n",
       "      <td>1</td>\n",
       "      <td>0</td>\n",
       "      <td>1</td>\n",
       "      <td>1</td>\n",
       "      <td>1</td>\n",
       "      <td>0.196364</td>\n",
       "      <td>0.189405</td>\n",
       "      <td>0.437273</td>\n",
       "      <td>0.248309</td>\n",
       "      <td>120</td>\n",
       "      <td>1229</td>\n",
       "      <td>1349</td>\n",
       "    </tr>\n",
       "    <tr>\n",
       "      <th>3</th>\n",
       "      <td>4</td>\n",
       "      <td>2011-01-04</td>\n",
       "      <td>1</td>\n",
       "      <td>0</td>\n",
       "      <td>1</td>\n",
       "      <td>0</td>\n",
       "      <td>2</td>\n",
       "      <td>1</td>\n",
       "      <td>1</td>\n",
       "      <td>0.200000</td>\n",
       "      <td>0.212122</td>\n",
       "      <td>0.590435</td>\n",
       "      <td>0.160296</td>\n",
       "      <td>108</td>\n",
       "      <td>1454</td>\n",
       "      <td>1562</td>\n",
       "    </tr>\n",
       "    <tr>\n",
       "      <th>4</th>\n",
       "      <td>5</td>\n",
       "      <td>2011-01-05</td>\n",
       "      <td>1</td>\n",
       "      <td>0</td>\n",
       "      <td>1</td>\n",
       "      <td>0</td>\n",
       "      <td>3</td>\n",
       "      <td>1</td>\n",
       "      <td>1</td>\n",
       "      <td>0.226957</td>\n",
       "      <td>0.229270</td>\n",
       "      <td>0.436957</td>\n",
       "      <td>0.186900</td>\n",
       "      <td>82</td>\n",
       "      <td>1518</td>\n",
       "      <td>1600</td>\n",
       "    </tr>\n",
       "  </tbody>\n",
       "</table>\n",
       "</div>"
      ]
     },
     "execution_count": 4,
     "metadata": {},
     "output_type": "execute_result"
    }
   ],
   "execution_count": 4
  },
  {
   "metadata": {
    "ExecuteTime": {
     "end_time": "2024-09-25T13:06:01.127630Z",
     "start_time": "2024-09-25T13:06:01.020082Z"
    }
   },
   "cell_type": "code",
   "source": [
    "perhour_df = pd.read_csv('./data/hour.csv')\n",
    "perhour_df.head()"
   ],
   "outputs": [
    {
     "data": {
      "text/plain": [
       "   instant      dteday  season  yr  mnth  hr  holiday  weekday  workingday   \n",
       "0        1  2011-01-01       1   0     1   0        0        6           0  \\\n",
       "1        2  2011-01-01       1   0     1   1        0        6           0   \n",
       "2        3  2011-01-01       1   0     1   2        0        6           0   \n",
       "3        4  2011-01-01       1   0     1   3        0        6           0   \n",
       "4        5  2011-01-01       1   0     1   4        0        6           0   \n",
       "\n",
       "   weathersit  temp   atemp   hum  windspeed  casual  registered  cnt  \n",
       "0           1  0.24  0.2879  0.81        0.0       3          13   16  \n",
       "1           1  0.22  0.2727  0.80        0.0       8          32   40  \n",
       "2           1  0.22  0.2727  0.80        0.0       5          27   32  \n",
       "3           1  0.24  0.2879  0.75        0.0       3          10   13  \n",
       "4           1  0.24  0.2879  0.75        0.0       0           1    1  "
      ],
      "text/html": [
       "<div>\n",
       "<style scoped>\n",
       "    .dataframe tbody tr th:only-of-type {\n",
       "        vertical-align: middle;\n",
       "    }\n",
       "\n",
       "    .dataframe tbody tr th {\n",
       "        vertical-align: top;\n",
       "    }\n",
       "\n",
       "    .dataframe thead th {\n",
       "        text-align: right;\n",
       "    }\n",
       "</style>\n",
       "<table border=\"1\" class=\"dataframe\">\n",
       "  <thead>\n",
       "    <tr style=\"text-align: right;\">\n",
       "      <th></th>\n",
       "      <th>instant</th>\n",
       "      <th>dteday</th>\n",
       "      <th>season</th>\n",
       "      <th>yr</th>\n",
       "      <th>mnth</th>\n",
       "      <th>hr</th>\n",
       "      <th>holiday</th>\n",
       "      <th>weekday</th>\n",
       "      <th>workingday</th>\n",
       "      <th>weathersit</th>\n",
       "      <th>temp</th>\n",
       "      <th>atemp</th>\n",
       "      <th>hum</th>\n",
       "      <th>windspeed</th>\n",
       "      <th>casual</th>\n",
       "      <th>registered</th>\n",
       "      <th>cnt</th>\n",
       "    </tr>\n",
       "  </thead>\n",
       "  <tbody>\n",
       "    <tr>\n",
       "      <th>0</th>\n",
       "      <td>1</td>\n",
       "      <td>2011-01-01</td>\n",
       "      <td>1</td>\n",
       "      <td>0</td>\n",
       "      <td>1</td>\n",
       "      <td>0</td>\n",
       "      <td>0</td>\n",
       "      <td>6</td>\n",
       "      <td>0</td>\n",
       "      <td>1</td>\n",
       "      <td>0.24</td>\n",
       "      <td>0.2879</td>\n",
       "      <td>0.81</td>\n",
       "      <td>0.0</td>\n",
       "      <td>3</td>\n",
       "      <td>13</td>\n",
       "      <td>16</td>\n",
       "    </tr>\n",
       "    <tr>\n",
       "      <th>1</th>\n",
       "      <td>2</td>\n",
       "      <td>2011-01-01</td>\n",
       "      <td>1</td>\n",
       "      <td>0</td>\n",
       "      <td>1</td>\n",
       "      <td>1</td>\n",
       "      <td>0</td>\n",
       "      <td>6</td>\n",
       "      <td>0</td>\n",
       "      <td>1</td>\n",
       "      <td>0.22</td>\n",
       "      <td>0.2727</td>\n",
       "      <td>0.80</td>\n",
       "      <td>0.0</td>\n",
       "      <td>8</td>\n",
       "      <td>32</td>\n",
       "      <td>40</td>\n",
       "    </tr>\n",
       "    <tr>\n",
       "      <th>2</th>\n",
       "      <td>3</td>\n",
       "      <td>2011-01-01</td>\n",
       "      <td>1</td>\n",
       "      <td>0</td>\n",
       "      <td>1</td>\n",
       "      <td>2</td>\n",
       "      <td>0</td>\n",
       "      <td>6</td>\n",
       "      <td>0</td>\n",
       "      <td>1</td>\n",
       "      <td>0.22</td>\n",
       "      <td>0.2727</td>\n",
       "      <td>0.80</td>\n",
       "      <td>0.0</td>\n",
       "      <td>5</td>\n",
       "      <td>27</td>\n",
       "      <td>32</td>\n",
       "    </tr>\n",
       "    <tr>\n",
       "      <th>3</th>\n",
       "      <td>4</td>\n",
       "      <td>2011-01-01</td>\n",
       "      <td>1</td>\n",
       "      <td>0</td>\n",
       "      <td>1</td>\n",
       "      <td>3</td>\n",
       "      <td>0</td>\n",
       "      <td>6</td>\n",
       "      <td>0</td>\n",
       "      <td>1</td>\n",
       "      <td>0.24</td>\n",
       "      <td>0.2879</td>\n",
       "      <td>0.75</td>\n",
       "      <td>0.0</td>\n",
       "      <td>3</td>\n",
       "      <td>10</td>\n",
       "      <td>13</td>\n",
       "    </tr>\n",
       "    <tr>\n",
       "      <th>4</th>\n",
       "      <td>5</td>\n",
       "      <td>2011-01-01</td>\n",
       "      <td>1</td>\n",
       "      <td>0</td>\n",
       "      <td>1</td>\n",
       "      <td>4</td>\n",
       "      <td>0</td>\n",
       "      <td>6</td>\n",
       "      <td>0</td>\n",
       "      <td>1</td>\n",
       "      <td>0.24</td>\n",
       "      <td>0.2879</td>\n",
       "      <td>0.75</td>\n",
       "      <td>0.0</td>\n",
       "      <td>0</td>\n",
       "      <td>1</td>\n",
       "      <td>1</td>\n",
       "    </tr>\n",
       "  </tbody>\n",
       "</table>\n",
       "</div>"
      ]
     },
     "execution_count": 5,
     "metadata": {},
     "output_type": "execute_result"
    }
   ],
   "execution_count": 5
  },
  {
   "cell_type": "markdown",
   "source": [
    "**Insight:**\n",
    "- Mengumpulkan data yang akan digunakan "
   ],
   "metadata": {
    "id": "MMi6xGaDkbCi"
   }
  },
  {
   "cell_type": "markdown",
   "metadata": {
    "id": "FHSiqaZp8DC1"
   },
   "source": [
    "### Assessing Data"
   ]
  },
  {
   "cell_type": "code",
   "source": [
    "print(f\"Jumlah Data Duplikat : {perday_df.duplicated().sum()}\")\n",
    "\n",
    "perday_df.info()"
   ],
   "metadata": {
    "id": "ax-3tEjc9Cj1",
    "ExecuteTime": {
     "end_time": "2024-09-25T13:06:01.253666Z",
     "start_time": "2024-09-25T13:06:01.219091Z"
    }
   },
   "outputs": [
    {
     "name": "stdout",
     "output_type": "stream",
     "text": [
      "Jumlah Data Duplikat : 0\n",
      "<class 'pandas.core.frame.DataFrame'>\n",
      "RangeIndex: 731 entries, 0 to 730\n",
      "Data columns (total 16 columns):\n",
      " #   Column      Non-Null Count  Dtype  \n",
      "---  ------      --------------  -----  \n",
      " 0   instant     731 non-null    int64  \n",
      " 1   dteday      731 non-null    object \n",
      " 2   season      731 non-null    int64  \n",
      " 3   yr          731 non-null    int64  \n",
      " 4   mnth        731 non-null    int64  \n",
      " 5   holiday     731 non-null    int64  \n",
      " 6   weekday     731 non-null    int64  \n",
      " 7   workingday  731 non-null    int64  \n",
      " 8   weathersit  731 non-null    int64  \n",
      " 9   temp        731 non-null    float64\n",
      " 10  atemp       731 non-null    float64\n",
      " 11  hum         731 non-null    float64\n",
      " 12  windspeed   731 non-null    float64\n",
      " 13  casual      731 non-null    int64  \n",
      " 14  registered  731 non-null    int64  \n",
      " 15  cnt         731 non-null    int64  \n",
      "dtypes: float64(4), int64(11), object(1)\n",
      "memory usage: 91.5+ KB\n"
     ]
    }
   ],
   "execution_count": 6
  },
  {
   "metadata": {
    "ExecuteTime": {
     "end_time": "2024-09-25T13:06:01.456089Z",
     "start_time": "2024-09-25T13:06:01.430268Z"
    }
   },
   "cell_type": "code",
   "source": [
    "print(f\"Jumlah Data Duplikat : {perhour_df.duplicated().sum()}\")\n",
    "\n",
    "perhour_df.info()"
   ],
   "outputs": [
    {
     "name": "stdout",
     "output_type": "stream",
     "text": [
      "Jumlah Data Duplikat : 0\n",
      "<class 'pandas.core.frame.DataFrame'>\n",
      "RangeIndex: 17379 entries, 0 to 17378\n",
      "Data columns (total 17 columns):\n",
      " #   Column      Non-Null Count  Dtype  \n",
      "---  ------      --------------  -----  \n",
      " 0   instant     17379 non-null  int64  \n",
      " 1   dteday      17379 non-null  object \n",
      " 2   season      17379 non-null  int64  \n",
      " 3   yr          17379 non-null  int64  \n",
      " 4   mnth        17379 non-null  int64  \n",
      " 5   hr          17379 non-null  int64  \n",
      " 6   holiday     17379 non-null  int64  \n",
      " 7   weekday     17379 non-null  int64  \n",
      " 8   workingday  17379 non-null  int64  \n",
      " 9   weathersit  17379 non-null  int64  \n",
      " 10  temp        17379 non-null  float64\n",
      " 11  atemp       17379 non-null  float64\n",
      " 12  hum         17379 non-null  float64\n",
      " 13  windspeed   17379 non-null  float64\n",
      " 14  casual      17379 non-null  int64  \n",
      " 15  registered  17379 non-null  int64  \n",
      " 16  cnt         17379 non-null  int64  \n",
      "dtypes: float64(4), int64(12), object(1)\n",
      "memory usage: 2.3+ MB\n"
     ]
    }
   ],
   "execution_count": 7
  },
  {
   "cell_type": "markdown",
   "source": [
    "**Insight:**\n",
    "- Tidak terdapat missing values maupun data duplikat pada kedua dataset"
   ],
   "metadata": {
    "id": "7dtxhAPrkhPL"
   }
  },
  {
   "cell_type": "markdown",
   "metadata": {
    "id": "EhN5R4hr8DC1"
   },
   "source": [
    "### Cleaning Data"
   ]
  },
  {
   "metadata": {
    "ExecuteTime": {
     "end_time": "2024-09-25T13:06:01.659129Z",
     "start_time": "2024-09-25T13:06:01.632330Z"
    }
   },
   "cell_type": "code",
   "source": [
    "perday_df['dteday'] = pd.to_datetime(perday_df['dteday'])\n",
    "perhour_df['dteday'] = pd.to_datetime(perhour_df['dteday'])"
   ],
   "outputs": [],
   "execution_count": 8
  },
  {
   "metadata": {
    "ExecuteTime": {
     "end_time": "2024-09-25T13:06:21.403986Z",
     "start_time": "2024-09-25T13:06:21.377094Z"
    }
   },
   "cell_type": "code",
   "source": [
    "season_map = {1: 'Spring', 2: 'Summer', 3: 'Fall', 4: 'Winter'}\n",
    "perday_df['season_name'] = perday_df['season'].map(season_map)\n",
    "perhour_df['season_name'] = perhour_df['season'].map(season_map)\n",
    "\n",
    "print(perday_df.head())\n",
    "print(perhour_df.head())"
   ],
   "outputs": [
    {
     "name": "stdout",
     "output_type": "stream",
     "text": [
      "   instant     dteday  season  yr  mnth  holiday  weekday  workingday   \n",
      "0        1 2011-01-01       1   0     1        0        6           0  \\\n",
      "1        2 2011-01-02       1   0     1        0        0           0   \n",
      "2        3 2011-01-03       1   0     1        0        1           1   \n",
      "3        4 2011-01-04       1   0     1        0        2           1   \n",
      "4        5 2011-01-05       1   0     1        0        3           1   \n",
      "\n",
      "   weathersit      temp     atemp       hum  windspeed  casual  registered   \n",
      "0           2  0.344167  0.363625  0.805833   0.160446     331         654  \\\n",
      "1           2  0.363478  0.353739  0.696087   0.248539     131         670   \n",
      "2           1  0.196364  0.189405  0.437273   0.248309     120        1229   \n",
      "3           1  0.200000  0.212122  0.590435   0.160296     108        1454   \n",
      "4           1  0.226957  0.229270  0.436957   0.186900      82        1518   \n",
      "\n",
      "    cnt season_name  \n",
      "0   985      Spring  \n",
      "1   801      Spring  \n",
      "2  1349      Spring  \n",
      "3  1562      Spring  \n",
      "4  1600      Spring  \n",
      "   instant     dteday  season  yr  mnth  hr  holiday  weekday  workingday   \n",
      "0        1 2011-01-01       1   0     1   0        0        6           0  \\\n",
      "1        2 2011-01-01       1   0     1   1        0        6           0   \n",
      "2        3 2011-01-01       1   0     1   2        0        6           0   \n",
      "3        4 2011-01-01       1   0     1   3        0        6           0   \n",
      "4        5 2011-01-01       1   0     1   4        0        6           0   \n",
      "\n",
      "   weathersit  temp   atemp   hum  windspeed  casual  registered  cnt   \n",
      "0           1  0.24  0.2879  0.81        0.0       3          13   16  \\\n",
      "1           1  0.22  0.2727  0.80        0.0       8          32   40   \n",
      "2           1  0.22  0.2727  0.80        0.0       5          27   32   \n",
      "3           1  0.24  0.2879  0.75        0.0       3          10   13   \n",
      "4           1  0.24  0.2879  0.75        0.0       0           1    1   \n",
      "\n",
      "  season_name  \n",
      "0      Spring  \n",
      "1      Spring  \n",
      "2      Spring  \n",
      "3      Spring  \n",
      "4      Spring  \n"
     ]
    }
   ],
   "execution_count": 11
  },
  {
   "cell_type": "markdown",
   "source": [
    "**Insight:**\n",
    "- Tidak ada data duplikat dalam kedua dataset.\n",
    "- Semua kolom memiliki tipe data yang sesuai dan tidak ada nilai yang hilang.\n",
    "- Penambahan kolom 'season_name' akan membantu dalam analisis dan visualisasi."
   ],
   "metadata": {
    "id": "Q_5ejIqckiSP"
   }
  },
  {
   "cell_type": "markdown",
   "metadata": {
    "id": "gp-Y6wU38DC1"
   },
   "source": [
    "## Exploratory Data Analysis (EDA)"
   ]
  },
  {
   "cell_type": "markdown",
   "metadata": {
    "id": "MW7WF2kr8DC1"
   },
   "source": "### Explore Rental Patterns"
  },
  {
   "cell_type": "code",
   "metadata": {
    "id": "e9CQCZjk8DC2",
    "ExecuteTime": {
     "end_time": "2024-09-25T13:12:04.064709Z",
     "start_time": "2024-09-25T13:12:04.034389Z"
    }
   },
   "source": [
    "monthly_rentals = perday_df.groupby(perday_df['dteday'].dt.strftime('%B'))['cnt'].sum().sort_values(ascending=False)\n",
    "print(f\"Monthly Rental Patterns: {monthly_rentals}\")"
   ],
   "outputs": [
    {
     "name": "stdout",
     "output_type": "stream",
     "text": [
      "Monthly Rental Patterns: dteday\n",
      "August       351194\n",
      "June         346342\n",
      "September    345991\n",
      "July         344948\n",
      "May          331686\n",
      "October      322352\n",
      "April        269094\n",
      "November     254831\n",
      "March        228920\n",
      "December     211036\n",
      "February     151352\n",
      "January      134933\n",
      "Name: cnt, dtype: int64\n"
     ]
    }
   ],
   "execution_count": 16
  },
  {
   "metadata": {
    "ExecuteTime": {
     "end_time": "2024-09-25T13:10:53.533176Z",
     "start_time": "2024-09-25T13:10:53.492617Z"
    }
   },
   "cell_type": "code",
   "source": [
    "weekday_rentals = perday_df[perday_df['weekday'] < 5]['cnt'].sum()\n",
    "weekend_rentals = perday_df[perday_df['weekday'] >= 5]['cnt'].sum()\n",
    "working_day_rentals = perday_df[perday_df['workingday'] == 1]['cnt'].sum()\n",
    "non_working_day_rentals = perday_df[perday_df['workingday'] == 0]['cnt'].sum()\n",
    "\n",
    "print(\"\\nWeekday vs Weekend Rentals:\")\n",
    "print(f\"Weekday: {weekday_rentals}\")\n",
    "print(f\"Weekend: {weekend_rentals}\")\n",
    "print(\"\\nWorking Day vs Non-Working Day Rentals:\")\n",
    "print(f\"Working Day: {working_day_rentals}\")\n",
    "print(f\"Non-Working Day: {non_working_day_rentals}\")"
   ],
   "outputs": [
    {
     "name": "stdout",
     "output_type": "stream",
     "text": [
      "\n",
      "Weekday vs Weekend Rentals:\n",
      "Weekday: 2327082\n",
      "Weekend: 965597\n",
      "\n",
      "Working Day vs Non-Working Day Rentals:\n",
      "Working Day: 2292410\n",
      "Non-Working Day: 1000269\n"
     ]
    }
   ],
   "execution_count": 13
  },
  {
   "metadata": {
    "ExecuteTime": {
     "end_time": "2024-09-25T13:12:31.956988Z",
     "start_time": "2024-09-25T13:12:31.934982Z"
    }
   },
   "cell_type": "code",
   "source": [
    "seasonal_rentals = perday_df.groupby('season_name')['cnt'].sum().sort_values(ascending=False)\n",
    "print(f\"\\nSeasonal Rental Patterns: {seasonal_rentals}\")"
   ],
   "outputs": [
    {
     "name": "stdout",
     "output_type": "stream",
     "text": [
      "\n",
      "Seasonal Rental Patterns: season_name\n",
      "Fall      1061129\n",
      "Summer     918589\n",
      "Winter     841613\n",
      "Spring     471348\n",
      "Name: cnt, dtype: int64\n"
     ]
    }
   ],
   "execution_count": 17
  },
  {
   "cell_type": "markdown",
   "source": [
    "**Insight:**\n",
    "- Beberapa bulan menunjukkan jumlah rental yang jauh lebih tinggi dibandingkan bulan lainnya.\n",
    "- Ada perbedaan signifikan antara jumlah rental pada hari kerja dan akhir pekan, yang dapat mempengaruhi strategi alokasi sepeda dan penentuan harga.\n",
    "- Pola penggunaan sepeda bervariasi antar musim, yang mungkin dipengaruhi oleh faktor cuaca dan aktivitas wisata."
   ],
   "metadata": {
    "id": "th_Lzl2Fkj9O"
   }
  },
  {
   "cell_type": "markdown",
   "metadata": {
    "id": "zsyZjqak8DC2"
   },
   "source": [
    "## Visualization & Explanatory Analysis"
   ]
  },
  {
   "cell_type": "markdown",
   "metadata": {
    "id": "HZxOiQ6n8DC2"
   },
   "source": "### Pertanyaan 1: Pada Bulan apa bike sharing rental mendapatkan pelanggan terbanyak?"
  },
  {
   "metadata": {
    "id": "1swJUdAD8DC2",
    "ExecuteTime": {
     "end_time": "2024-09-25T13:15:24.308194Z",
     "start_time": "2024-09-25T13:15:24.093704Z"
    }
   },
   "cell_type": "code",
   "source": [
    "plt.figure(figsize=(12, 6))\n",
    "plt.bar(monthly_rentals.index.values, monthly_rentals.values)\n",
    "plt.title('Total Rentals by Month')\n",
    "plt.ylabel('Total Rentals')\n",
    "plt.xticks(rotation=45)\n",
    "plt.show()"
   ],
   "outputs": [
    {
     "data": {
      "text/plain": [
       "<Figure size 1200x600 with 1 Axes>"
      ],
      "image/png": "[encoded data removed]"
     },
     "metadata": {},
     "output_type": "display_data"
    }
   ],
   "execution_count": 24
  },
  {
   "metadata": {},
   "cell_type": "markdown",
   "source": [
    "**Insight:**\n",
    "- Bulan Juni, Juli, dan Agustus menunjukkan jumlah rental tertinggi.\n",
    "- Bulan-bulan musim dingin (Desember, Januari, Februari) memiliki jumlah rental terendah.\n",
    "\n"
   ]
  },
  {
   "cell_type": "markdown",
   "metadata": {
    "id": "DgHI7CiU8DC2"
   },
   "source": "### Pertanyaan 2: Berapa persen perbandingan antara pelanggan yang menyewa pada weekday dan pelanggan yang menyewa pada working day?"
  },
  {
   "cell_type": "code",
   "metadata": {
    "id": "Go0lCsvO8DC2",
    "ExecuteTime": {
     "end_time": "2024-09-25T13:18:13.774748Z",
     "start_time": "2024-09-25T13:18:13.499907Z"
    }
   },
   "source": [
    "labels = ['Weekday', 'Weekend', 'Working Day', 'Non-Working Day']\n",
    "sizes = [weekday_rentals, weekend_rentals, working_day_rentals, non_working_day_rentals]\n",
    "colors = ['#ff9999', '#66b3ff', '#99ff99', '#ffcc99']\n",
    "\n",
    "fig, (ax1, ax2) = plt.subplots(1, 2, figsize=(15, 7))\n",
    "ax1.pie(sizes[:2], labels=labels[:2], colors=colors[:2], autopct='%1.1f%%', startangle=90)\n",
    "ax1.set_title('Weekday vs Weekend Rentals')\n",
    "ax2.pie(sizes[2:], labels=labels[2:], colors=colors[2:], autopct='%1.1f%%', startangle=90)\n",
    "ax2.set_title('Working Day vs Non-Working Day Rentals')\n",
    "plt.tight_layout()\n",
    "plt.show()"
   ],
   "outputs": [
    {
     "data": {
      "text/plain": [
       "<Figure size 1500x700 with 2 Axes>"
      ],
      "image/png": "[encoded data removed]"
     },
     "metadata": {},
     "output_type": "display_data"
    }
   ],
   "execution_count": 25
  },
  {
   "cell_type": "markdown",
   "source": [
    "**Insight:**\n",
    "- Sekitar 70-75% dari total rental terjadi pada hari kerja (weekday).\n",
    "- Persentase rental pada hari kerja (working day) sedikit lebih tinggi dibandingkan weekday\n",
    "- Perbedaan antara hari kerja dan akhir pekan tidak terlalu besar, menunjukkan bahwa layanan ini tetap populer untuk rekreasi pada akhir pekan."
   ],
   "metadata": {
    "id": "_0-36BDLklRg"
   }
  },
  {
   "metadata": {},
   "cell_type": "markdown",
   "source": "### Pertanyaan 3: Bagaimana performa rental sepeda di musim spring, summer, fall, winter?"
  },
  {
   "metadata": {
    "ExecuteTime": {
     "end_time": "2024-09-25T13:19:44.419945Z",
     "start_time": "2024-09-25T13:19:44.222270Z"
    }
   },
   "cell_type": "code",
   "source": [
    "plt.figure(figsize=(10, 6))\n",
    "sns.boxplot(x='season_name', y='cnt', data=perday_df, order=['Spring', 'Summer', 'Fall', 'Winter'])\n",
    "plt.title('Rental Performance by Season')\n",
    "plt.xlabel('Season')\n",
    "plt.ylabel('Number of Rentals')\n",
    "plt.show()"
   ],
   "outputs": [
    {
     "data": {
      "text/plain": [
       "<Figure size 1000x600 with 1 Axes>"
      ],
      "image/png": "[encoded data removed]"
     },
     "metadata": {},
     "output_type": "display_data"
    }
   ],
   "execution_count": 26
  },
  {
   "metadata": {},
   "cell_type": "markdown",
   "source": [
    "**Insight:**\n",
    "- Musim panas (Summer) memiliki median rental tertinggi, diikuti oleh musim gugur (Fall), musim semi (Spring), dan musim dingin (Winter)."
   ]
  },
  {
   "cell_type": "markdown",
   "source": [
    "## Analisis Lanjutan (Opsional)"
   ],
   "metadata": {
    "id": "9y4VUsmcYNZ5"
   }
  },
  {
   "cell_type": "code",
   "source": [],
   "metadata": {
    "id": "iWhnzsJGYUCO",
    "ExecuteTime": {
     "end_time": "2024-09-25T13:06:02.346676Z",
     "start_time": "2024-09-25T13:06:02.339187Z"
    }
   },
   "outputs": [],
   "execution_count": null
  },
  {
   "cell_type": "markdown",
   "metadata": {
    "id": "_WeHlCeX8DC2"
   },
   "source": [
    "## Conclusion"
   ]
  },
  {
   "cell_type": "markdown",
   "metadata": {
    "id": "ZTcyR48Y8DC2"
   },
   "source": [
    "- Conclution pertanyaan 1\n",
    "- Conclution pertanyaan 2"
   ]
  }
 ],
 "metadata": {
  "kernelspec": {
   "display_name": "Python 3",
   "language": "python",
   "name": "python3"
  },
  "language_info": {
   "name": "python",
   "version": "3.8.0 (tags/v3.8.0:fa919fd, Oct 14 2019, 19:21:23) [MSC v.1916 32 bit (Intel)]"
  },
  "orig_nbformat": 4,
  "vscode": {
   "interpreter": {
    "hash": "972b3bf27e332e87b5379f2791f6ef9dfc79c71018c370b0d7423235e20fe4d7"
   }
  },
  "colab": {
   "provenance": []
  }
 },
 "nbformat": 4,
 "nbformat_minor": 0
}
